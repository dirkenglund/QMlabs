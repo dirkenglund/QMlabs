{
  "nbformat": 4,
  "nbformat_minor": 0,
  "metadata": {
    "colab": {
      "provenance": [],
      "include_colab_link": true
    },
    "kernelspec": {
      "name": "python3",
      "display_name": "Python 3"
    },
    "language_info": {
      "name": "python"
    }
  },
  "cells": [
    {
      "cell_type": "markdown",
      "metadata": {
        "id": "view-in-github",
        "colab_type": "text"
      },
      "source": [
        "<a href=\"https://colab.research.google.com/github/dirkenglund/QMlabs/blob/master/2023_QP_Tracking_Template_TopChip_T2_1.ipynb\" target=\"_parent\"><img src=\"https://colab.research.google.com/assets/colab-badge.svg\" alt=\"Open In Colab\"/></a>"
      ]
    },
    {
      "cell_type": "markdown",
      "source": [
        "[link text](https://)# Project Tracking: TopChip T2.1\n",
        "> updated 2023.07.21*\n",
        "\n",
        "## Contributors\n",
        "- Author Alpha (AA); joined 2020.06.16\n",
        "- Author Beta (AB); joined 2020.06.16\n",
        "\n",
        "\n",
        "\n",
        "\n",
        "I see a pattern for improved clarity:\n",
        "\n",
        ">1. Goal: say what you wish to do\n",
        ">2. Problem definition: From example of application, define population {x} and samples \\hat{x}. Then motivate the cost function S(x) where x \\in .. etc\n",
        ">3. Approach:  min_\\Theta S(x) where \\Theta =... .. this yielded this \\Theta [describe hyperparameters etc]\n",
        ">4. Discussion\n",
        ">5. Conclusions\n",
        "\n",
        "\n",
        "## Summary Paragraph\n",
        "A central challenge in developing quantum computers and long-range quantum networks lies in the distribution of entanglement across many individually controllable qubits. Colour centres in diamond have emerged as leading solid-state 'artificial atom' qubits, enabling on-demand remote entanglement, coherent control of over 10 ancillae qubits with minute-long coherence times, and memory-enhanced quantum communication. A critical next step is to integrate large numbers of artificial atoms with photonic architectures to enable large-scale quantum information processing systems. However to date, these efforts have been stymied by qubit inhomogeneities, low device yield, and complex device requirements.\n",
        "\n",
        "## Approach\n",
        "Here, we introduce a process for the high-yield heterogeneous integration of 'quantum micro-chiplets' — diamond waveguide arrays containing highly coherent colour centres — on a photonic integrated circuit (PIC).\n",
        "\n",
        "## Quantitative Outcomes\n",
        "We use this process to realise a 128-channel defect-free array of germanium-vacancy and silicon-vacancy colour centres in an aluminium nitride PIC. Photoluminescence spectroscopy reveals long-term stable and narrow average optical linewidths of 54 MHz (146 MHz) for germanium-vacancy (silicon-vacancy) emitters, close to the lifetime-limited linewidth of 32 MHz (93 MHz).\n",
        "\n",
        "## Conclusions & Broader Implications\n",
        "The ability to assemble large numbers of nearly indistinguishable and tunable artificial atoms into phase-stable PICs marks a key step toward multiplexed quantum repeaters and general-purpose quantum processors.  \n",
        "\n",
        "## Project Progress\n",
        "- 2020.06.17 - kickoff\n",
        "- Note that math works well now in Colab: The vector field $\\mathbf{F}(x, y) = P(x, y)\\mathbf{i} + Q(x, y)\\mathbf{j}$ around $\\partial D$ is equal to the double integral of the curl of $\\mathbf{F}$ over $D$, i.e.,\n",
        "\n",
        "\\begin{equation*}\n",
        "    \\oint_{\\partial D} \\mathbf{F} \\cdot d\\mathbf{r} = \\iint_D \\nabla \\times \\mathbf{F} \\cdot d\\mathbf{A}.\n",
        "\\end{equation*}\n",
        "\n",
        "- Example: Fig. 1 illustrates the heterogeneous integration process. The multichip module consists of a waveguide layer in single-crystal aluminium nitride (AlN) for low-loss photonics, microchiplet sockets to optically interface with separately fabricated diamond QMCs and electrical layers for controlling colour centre transitions. This PIC platform is compatible with additional components, such as on-chip electro-optic modulators and SNSPDs, for photon switching and photon detection in a quantum photonic chip.\n",
        "- 2020.07.01- AA&AB: Co-design resonator + gratings to achieve efficient vertical in-out coupling to an overcoupled EO modulator in AIMphotonics. Try numerical optimization, eg using inverse design. Consider other modulator designs, such as photonic crystal devices or ring modulators that have the gratings on the inside to save space, which was recently discussed in the literature.\n",
        "- 2020.07.13 - AA: Completed design - see GDS here [link]\n",
        "\n",
        "- 2023.12.13 - AA: Completed design test topchip - see GDS here [link]\n",
        "\n"
      ],
      "metadata": {
        "id": "dVXtMyk5YF2C"
      }
    },
    {
      "cell_type": "markdown",
      "source": [],
      "metadata": {
        "id": "yz96vo5oZNGe"
      }
    },
    {
      "cell_type": "code",
      "execution_count": null,
      "metadata": {
        "id": "CCdHyunwVdHz"
      },
      "outputs": [],
      "source": []
    },
    {
      "cell_type": "markdown",
      "source": [],
      "metadata": {
        "id": "1mqu2jHxVmMY"
      }
    }
  ]
}